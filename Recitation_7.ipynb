{
 "cells": [
  {
   "cell_type": "markdown",
   "metadata": {
    "id": "3U9hXHHJWxX5"
   },
   "source": [
    "Recitation 7: Burp Suite\n",
    "==================================\n",
    "\n",
    "In this lab we will be learning how to use Burp to perform security testing of web applications.\n",
    "\n",
    "\n",
    "Introduction\n",
    "---------------\n",
    "Burp Suite is an integrated platform/graphical tool for performing security testing of web applications. Its various tools work seamlessly together to support the entire testing process, from initial mapping and analysis of an application's attack surface, through to finding and exploiting security vulnerabilities.\n",
    "\n",
    "It is a very popular penetration testing software, with a number of commonly used modules such as Proxy, Target, Intruder, repeater, Sequencer, Decoder, etc. Today we will mainly learn `Proxy`, `Decoder`, and `Repeater`.\n",
    "\n",
    "\n",
    "Installation\n",
    "---------------\n",
    "- Download the installer with this link: https://portswigger.net/burp/releases/professional-community-2022-1-1?requestededition=community\n",
    "- Select `Burp Suite Community Edition` and your OS, and then  click `Download`\n",
    "- Run the installer (note the path and execute permission commands if you have errors in this step)\n",
    "  - Windows and Mac should have simple MSI/DMG installers\n",
    "  - Linux installs via a shell script:\n",
    "    - _$ cd $DIR_OF_SHELL_SCRIPT_\n",
    "    - _$ chmod +x burpsuite_community_linux_v2022_1_1.sh_\n",
    "    - _$ ./burpsuite_community_linux_v2022_1_1.sh_\n",
    "\n",
    "Play Around\n",
    "---------------\n",
    "\n",
    "When starting BURP, you will be prompted to create a new temporary project. Just click through with all the default settings until BURP launches.\n",
    "\n",
    "**1. Intercepting a request with Proxy**  \n",
    "Using BURP often begins by using it as a proxy between you and the server which you would like to scan.\n",
    "- Go to `Proxy > Intercept` tab. Click `Open Browser` to open a embedded browser called `chromium`. This browser is pre-configured to use BURP as a proxy, and it also has disabled certificate checking so BURP can proxy and decode HTTPS traffic as well. You can also use any local browsers, but you have to configure the proxy and certificate settings yourself. Just using the pre-configured one is fine for now.\n",
    "- Browse to any site like `https://google.com`. Go to the `Proxy > HTTP history` tab, and you can see the history of all HTTP traffic that has passed through the BURP Proxy. You can also see the raw requests and responses by clicking on any entry. Note that you can read headers, cookies, and response data here.\n",
    "- Go to a site that allows user input, such as `https://classes.colorado.edu`. Go back to the `Proxy > Intercept` tab, and click the `Intercept is off` button. This will cause BURP to intercept and queue packets rather than pass them along to their destination, and allows you to read and modify them mid-stream.\n",
    "- Type in a search query into the class search window. This triggers a web request that shows up in BURP. The packet will not be delivered until you hit \"forward\" in BURP, so note how the site stays in a loading state until then. Click \"forward\", and notice how the page continues to load as normal.\n",
    "- Make another request, only this time look at the request body. The body is URL-encoded, but if you highlight it, BURP will open a new window where you can see the decoded version. You should see your search query there- try making a change and clicking \"Apply Changes\". Once you do, the page should load results for your new query! You can change the search terms used, or even throw in some invalid characters and see an error message show up instead.\n",
    "\n",
    "\n",
    "**2. Decode base64 format with Decoder**  \n",
    "The Decoder is a simple tool for transforming encoded data into its canonical form, or for transforming raw data into various encoded and hashed forms. This is useful in cases like the search query from part 1, which was sent with URL encoding.\n",
    "- Visit `base64encode.com` and type whatever you want to encode in base64 format.\n",
    "- Back to Burp window and go to `Decoder` tab.\n",
    "- Click `Decode as...` and select `Base64` from the drop-down list. Now you can see the plaintext you encoded!\n",
    "\n",
    "\n",
    "**3. Send specific requests and study the responses with Repeater**  \n",
    "Repeater can be used to reissue an interesting request over and over again. This lets you study the target website's response to different input without having to intercept the request each time.\n",
    "\n",
    "- Go to the `Proxy > HTTP history tab` and right click any `GET` request and then select `Send to Repeater`.\n",
    "- Go to the `Repeater` tab and click `Send` to issue the request and wait for the response from the server. (You can resend this request as many times as you like and the response will be updated each time).\n",
    "- Feel free to modify the request and study the response."
   ]
  },
  {
   "cell_type": "code",
   "execution_count": null,
   "metadata": {
    "id": "7GN5Hjek6zqe"
   },
   "outputs": [],
   "source": []
  }
 ],
 "metadata": {
  "colab": {
   "collapsed_sections": [],
   "name": "Recitation 7",
   "provenance": []
  },
  "kernelspec": {
   "display_name": "Python 3",
   "language": "python",
   "name": "python3"
  },
  "language_info": {
   "codemirror_mode": {
    "name": "ipython",
    "version": 3
   },
   "file_extension": ".py",
   "mimetype": "text/x-python",
   "name": "python",
   "nbconvert_exporter": "python",
   "pygments_lexer": "ipython3",
   "version": "3.8.3"
  }
 },
 "nbformat": 4,
 "nbformat_minor": 1
}
