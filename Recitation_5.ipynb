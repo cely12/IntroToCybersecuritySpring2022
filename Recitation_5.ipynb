{
 "cells": [
  {
   "cell_type": "markdown",
   "metadata": {
    "id": "3U9hXHHJWxX5"
   },
   "source": [
    "Recitation 5: Advanced Wireshark\n",
    "==================================\n",
    "\n",
    "In the last recitation, we learned how to use Wireshark to capture packets transmitted under several network protocols including TELNET, SSH, HTTP, and HTTPS, and learned how to utilize `filter` to assist in analyzing sensitive information that may be contained in the packets. Today we continue to explore the use of wireshark for advanced network analysis, pcap file analysis.\n",
    "\n",
    "PCAP (Packet CAPture)\n",
    "--------------------\n",
    "A pcap file is a commonly used storage format which records network activity. A packet capture tool like Wireshark is able to open the file and read the recorded packets. In addition, Wireshark can also save live traffic into pcap files for later use.\n",
    "\n",
    "In this lab, we will read and analyze an existing packet capture. On Canvas, download the file `recitation_5_capture.pcap` and open it in Wireshark.\n",
    "\n",
    "Part 1: General Data\n",
    "--------------------\n",
    "\n",
    "1. Go to `Statistics > Capture File Properties`. When was this packet capture taken? How long was it taken for?  \n",
    "\n",
    "2. Go to `Statistics > IPv4 Statistics > Destinations and Ports`. This lists the IP addresses which send and receive data during this capture, as well as the port numbers they use. Which addresses send and receive the most traffic? Look at the five addresses with the most traffic: which of them are personal computers, and which are network servers? What kind of network servers?  \n",
    "\n",
    "3. Go to `Statistics > Conversations` to figure out how many conversations occur in the IPv4 layer. Which two computers send the most packets with each other? How much data did they send? What kind of data are they sending to take up so much bandwidth?  \n",
    "\n",
    "Part 2: Investigating the Web Traffic\n",
    "-------------------------------------\n",
    "\n",
    "1. Go to `Statistics > HTTP > Requests`. Which sites had the most HTTP traffic?  \n",
    "2. The first packet in the capture is an HTTP request to `clients1.google.ca`. Follow the rest of the HTTP conversation: what type of action takes place here? Based off this, what website do you expect the user to visit next?  \n",
    "3. How many HTTP GET request messages did a client send to Craigslist? The `http.host` and `http.request.method` filters will be helpful here.  \n"
   ]
  },
  {
   "cell_type": "code",
   "execution_count": null,
   "metadata": {
    "id": "7GN5Hjek6zqe"
   },
   "outputs": [],
   "source": []
  }
 ],
 "metadata": {
  "colab": {
   "collapsed_sections": [],
   "name": "Recitation 5",
   "provenance": []
  },
  "kernelspec": {
   "display_name": "Python 3",
   "language": "python",
   "name": "python3"
  },
  "language_info": {
   "codemirror_mode": {
    "name": "ipython",
    "version": 3
   },
   "file_extension": ".py",
   "mimetype": "text/x-python",
   "name": "python",
   "nbconvert_exporter": "python",
   "pygments_lexer": "ipython3",
   "version": "3.8.3"
  }
 },
 "nbformat": 4,
 "nbformat_minor": 1
}
